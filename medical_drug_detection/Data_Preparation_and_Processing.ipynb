{
 "metadata": {
  "language_info": {
   "codemirror_mode": {
    "name": "ipython",
    "version": 3
   },
   "file_extension": ".py",
   "mimetype": "text/x-python",
   "name": "python",
   "nbconvert_exporter": "python",
   "pygments_lexer": "ipython3",
   "version": "3.8.5"
  },
  "orig_nbformat": 4,
  "kernelspec": {
   "name": "python3",
   "display_name": "Python 3.8.5 64-bit ('ML': conda)"
  },
  "interpreter": {
   "hash": "c35fb76f883f690d949486ccc595f4e1a6df06ca74076759e216e8ee5efe8648"
  }
 },
 "nbformat": 4,
 "nbformat_minor": 2,
 "cells": [
  {
   "source": [
    "# Data Preparation and Processing"
   ],
   "cell_type": "markdown",
   "metadata": {}
  },
  {
   "source": [
    "## Import Libraries"
   ],
   "cell_type": "markdown",
   "metadata": {}
  },
  {
   "source": [
    "import numpy as np\n",
    "from random import randint\n",
    "from sklearn.utils import shuffle\n",
    "from sklearn.preprocessing import MinMaxScaler"
   ],
   "cell_type": "code",
   "metadata": {},
   "execution_count": 19,
   "outputs": []
  },
  {
   "cell_type": "code",
   "execution_count": 20,
   "metadata": {},
   "outputs": [],
   "source": [
    "# List of samples and labels\n",
    "train_labels =    []\n",
    "train_samples = []"
   ]
  },
  {
   "source": [
    "#### Example Data:\n",
    "\n",
    "- An experiemental drug was tested on individuals from ages 13 to 100 in clinical trial.\n",
    "- The trial had 2,100 participants. Half were under 65 yesrs old, and half were 65 years or older.\n",
    "- Around 95% of patients 65 or older experienced side effects.\n",
    "- Around 95% of patients uders 65 experienced no side effects."
   ],
   "cell_type": "markdown",
   "metadata": {}
  },
  {
   "cell_type": "code",
   "execution_count": 21,
   "metadata": {},
   "outputs": [],
   "source": [
    "for _ in range(50):\n",
    "    # The ~5% younger individuals who did experience side effects.\n",
    "    random_younger = randint(13, 64)\n",
    "    train_samples.append(random_younger)\n",
    "    train_labels.append(1)  # (1) people who experienced side effects\n",
    "\n",
    "    # The ~5% older individuals who did not experienced any side effects\n",
    "    random_older = randint(65, 100)\n",
    "    train_samples.append(random_older)\n",
    "    train_labels.append(0)  # (0) people who experienced no side effects\n",
    "\n",
    "for _ in range(1000):\n",
    "    # The ~95% younger individuals who did not experience any side effects.\n",
    "    random_younger = randint(13, 64)\n",
    "    train_samples.append(random_younger)\n",
    "    train_labels.append(0)\n",
    "    \n",
    "    # The ~95% younger individuals who did not experience any side effects.\n",
    "    random_older = randint(65, 100)\n",
    "    train_samples.append(random_older)\n",
    "    train_labels.append(1)"
   ]
  },
  {
   "source": [
    "train_labels = np.asarray(train_labels)\n",
    "train_samples = np.asarray(train_samples)\n",
    "\n",
    "train_samples, train_labels = shuffle(train_samples, train_labels)"
   ],
   "cell_type": "code",
   "metadata": {},
   "execution_count": 22,
   "outputs": []
  },
  {
   "cell_type": "code",
   "execution_count": 23,
   "metadata": {},
   "outputs": [],
   "source": [
    "# Normalization\n",
    "scaler = MinMaxScaler(feature_range=(0, 1))\n",
    "scaled_train_samples = scaler.fit_transform(train_samples.reshape(-1, 1))"
   ]
  },
  {
   "cell_type": "code",
   "execution_count": 7,
   "metadata": {},
   "outputs": [
    {
     "output_type": "execute_result",
     "data": {
      "text/plain": [
       "(2100, 1)"
      ]
     },
     "metadata": {},
     "execution_count": 7
    }
   ],
   "source": [
    "scaled_train_samples.shape"
   ]
  },
  {
   "cell_type": "code",
   "execution_count": 8,
   "metadata": {},
   "outputs": [
    {
     "output_type": "execute_result",
     "data": {
      "text/plain": [
       "(2100,)"
      ]
     },
     "metadata": {},
     "execution_count": 8
    }
   ],
   "source": [
    "train_labels.shape"
   ]
  },
  {
   "cell_type": "code",
   "execution_count": 32,
   "metadata": {},
   "outputs": [
    {
     "output_type": "stream",
     "name": "stdout",
     "text": [
      "Train arrays has been created!\n"
     ]
    }
   ],
   "source": [
    "# Let's save our arries to use it into our next sections\n",
    "with open('drug_train_samples.npy', 'wb') as savNP:\n",
    "    np.save(savNP, scaled_train_samples)\n",
    "    np.save(savNP, train_labels)\n",
    "print('Train arrays has been created!')"
   ]
  },
  {
   "source": [
    "Now, let's create the test simples and do the same process that we did in the previous couple of lines\n",
    "\n",
    "Test set: it will help us to test our model accuracy before produce it to the production level."
   ],
   "cell_type": "markdown",
   "metadata": {}
  },
  {
   "cell_type": "code",
   "execution_count": 26,
   "metadata": {},
   "outputs": [],
   "source": [
    "test_samples = []\n",
    "test_labels = []"
   ]
  },
  {
   "cell_type": "code",
   "execution_count": 27,
   "metadata": {},
   "outputs": [],
   "source": [
    "for _ in range(10):\n",
    "    # The ~5% younger individuals who did experience side effects.\n",
    "    random_younger = randint(13, 64)\n",
    "    test_samples.append(random_younger)\n",
    "    test_labels.append(1)  # (1) people who experienced side effects\n",
    "\n",
    "    # The ~5% older individuals who did not experienced any side effects\n",
    "    random_older = randint(65, 100)\n",
    "    test_samples.append(random_older)\n",
    "    test_labels.append(0)  # (0) people who experienced no side effects\n",
    "\n",
    "for _ in range(200):\n",
    "    # The ~95% younger individuals who did not experience any side effects.\n",
    "    random_younger = randint(13, 64)\n",
    "    test_samples.append(random_younger)\n",
    "    test_labels.append(0)\n",
    "    \n",
    "    # The ~95% younger individuals who did not experience any side effects.\n",
    "    random_older = randint(65, 100)\n",
    "    test_samples.append(random_older)\n",
    "    test_labels.append(1)"
   ]
  },
  {
   "cell_type": "code",
   "execution_count": 28,
   "metadata": {},
   "outputs": [],
   "source": [
    "test_samples = np.asarray(test_samples)\n",
    "test_labels = np.asarray(test_labels)\n",
    "\n",
    "test_samples, test_labels = shuffle(test_samples, test_labels)"
   ]
  },
  {
   "cell_type": "code",
   "execution_count": 29,
   "metadata": {},
   "outputs": [],
   "source": [
    "scaled_test_samples = scaler.fit_transform(test_samples.reshape(-1, 1))"
   ]
  },
  {
   "cell_type": "code",
   "execution_count": 30,
   "metadata": {},
   "outputs": [
    {
     "output_type": "stream",
     "name": "stdout",
     "text": [
      "Test arrays has been created!\n"
     ]
    }
   ],
   "source": [
    "# Store the arrays into file\n",
    "with open(\"drug_test_samples.npy\", 'wb') as testNP:\n",
    "    np.save(testNP, scaled_test_samples)\n",
    "    np.save(testNP, test_labels)\n",
    "print('Test arrays has been created!')"
   ]
  }
 ]
}